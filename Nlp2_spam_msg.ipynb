{
  "nbformat": 4,
  "nbformat_minor": 0,
  "metadata": {
    "colab": {
      "provenance": [],
      "authorship_tag": "ABX9TyM+RRvV2qP2P6lOXf2c1pa0",
      "include_colab_link": true
    },
    "kernelspec": {
      "name": "python3",
      "display_name": "Python 3"
    },
    "language_info": {
      "name": "python"
    }
  },
  "cells": [
    {
      "cell_type": "markdown",
      "metadata": {
        "id": "view-in-github",
        "colab_type": "text"
      },
      "source": [
        "<a href=\"https://colab.research.google.com/github/Meera-Ajay-25/NLP-projects/blob/main/Nlp2_spam_msg.ipynb\" target=\"_parent\"><img src=\"https://colab.research.google.com/assets/colab-badge.svg\" alt=\"Open In Colab\"/></a>"
      ]
    },
    {
      "cell_type": "markdown",
      "source": [
        "**Project**: Spam message detection using NLP"
      ],
      "metadata": {
        "id": "2bU0THWDUdjW"
      }
    },
    {
      "cell_type": "code",
      "execution_count": null,
      "metadata": {
        "colab": {
          "base_uri": "https://localhost:8080/",
          "height": 423
        },
        "id": "VPPuEUjN59WL",
        "outputId": "b7070b5c-c219-4f80-b08c-78f03182cdd2"
      },
      "outputs": [
        {
          "output_type": "execute_result",
          "data": {
            "text/plain": [
              "     S. No.                                       Message_body     Label\n",
              "0         1                         Rofl. Its true to its name  Non-Spam\n",
              "1         2  The guy did some bitching but I acted like i'd...  Non-Spam\n",
              "2         3  Pity, * was in mood for that. So...any other s...  Non-Spam\n",
              "3         4               Will ü b going to esplanade fr home?  Non-Spam\n",
              "4         5  This is the 2nd time we have tried 2 contact u...      Spam\n",
              "..      ...                                                ...       ...\n",
              "952     953  hows my favourite person today? r u workin har...  Non-Spam\n",
              "953     954                      How much you got for cleaning  Non-Spam\n",
              "954     955  Sorry da. I gone mad so many pending works wha...  Non-Spam\n",
              "955     956                                 Wat time ü finish?  Non-Spam\n",
              "956     957                    Just glad to be talking to you.  Non-Spam\n",
              "\n",
              "[957 rows x 3 columns]"
            ],
            "text/html": [
              "\n",
              "  <div id=\"df-19bdb32e-c871-413e-b802-a6c821113539\">\n",
              "    <div class=\"colab-df-container\">\n",
              "      <div>\n",
              "<style scoped>\n",
              "    .dataframe tbody tr th:only-of-type {\n",
              "        vertical-align: middle;\n",
              "    }\n",
              "\n",
              "    .dataframe tbody tr th {\n",
              "        vertical-align: top;\n",
              "    }\n",
              "\n",
              "    .dataframe thead th {\n",
              "        text-align: right;\n",
              "    }\n",
              "</style>\n",
              "<table border=\"1\" class=\"dataframe\">\n",
              "  <thead>\n",
              "    <tr style=\"text-align: right;\">\n",
              "      <th></th>\n",
              "      <th>S. No.</th>\n",
              "      <th>Message_body</th>\n",
              "      <th>Label</th>\n",
              "    </tr>\n",
              "  </thead>\n",
              "  <tbody>\n",
              "    <tr>\n",
              "      <th>0</th>\n",
              "      <td>1</td>\n",
              "      <td>Rofl. Its true to its name</td>\n",
              "      <td>Non-Spam</td>\n",
              "    </tr>\n",
              "    <tr>\n",
              "      <th>1</th>\n",
              "      <td>2</td>\n",
              "      <td>The guy did some bitching but I acted like i'd...</td>\n",
              "      <td>Non-Spam</td>\n",
              "    </tr>\n",
              "    <tr>\n",
              "      <th>2</th>\n",
              "      <td>3</td>\n",
              "      <td>Pity, * was in mood for that. So...any other s...</td>\n",
              "      <td>Non-Spam</td>\n",
              "    </tr>\n",
              "    <tr>\n",
              "      <th>3</th>\n",
              "      <td>4</td>\n",
              "      <td>Will ü b going to esplanade fr home?</td>\n",
              "      <td>Non-Spam</td>\n",
              "    </tr>\n",
              "    <tr>\n",
              "      <th>4</th>\n",
              "      <td>5</td>\n",
              "      <td>This is the 2nd time we have tried 2 contact u...</td>\n",
              "      <td>Spam</td>\n",
              "    </tr>\n",
              "    <tr>\n",
              "      <th>...</th>\n",
              "      <td>...</td>\n",
              "      <td>...</td>\n",
              "      <td>...</td>\n",
              "    </tr>\n",
              "    <tr>\n",
              "      <th>952</th>\n",
              "      <td>953</td>\n",
              "      <td>hows my favourite person today? r u workin har...</td>\n",
              "      <td>Non-Spam</td>\n",
              "    </tr>\n",
              "    <tr>\n",
              "      <th>953</th>\n",
              "      <td>954</td>\n",
              "      <td>How much you got for cleaning</td>\n",
              "      <td>Non-Spam</td>\n",
              "    </tr>\n",
              "    <tr>\n",
              "      <th>954</th>\n",
              "      <td>955</td>\n",
              "      <td>Sorry da. I gone mad so many pending works wha...</td>\n",
              "      <td>Non-Spam</td>\n",
              "    </tr>\n",
              "    <tr>\n",
              "      <th>955</th>\n",
              "      <td>956</td>\n",
              "      <td>Wat time ü finish?</td>\n",
              "      <td>Non-Spam</td>\n",
              "    </tr>\n",
              "    <tr>\n",
              "      <th>956</th>\n",
              "      <td>957</td>\n",
              "      <td>Just glad to be talking to you.</td>\n",
              "      <td>Non-Spam</td>\n",
              "    </tr>\n",
              "  </tbody>\n",
              "</table>\n",
              "<p>957 rows × 3 columns</p>\n",
              "</div>\n",
              "      <button class=\"colab-df-convert\" onclick=\"convertToInteractive('df-19bdb32e-c871-413e-b802-a6c821113539')\"\n",
              "              title=\"Convert this dataframe to an interactive table.\"\n",
              "              style=\"display:none;\">\n",
              "        \n",
              "  <svg xmlns=\"http://www.w3.org/2000/svg\" height=\"24px\"viewBox=\"0 0 24 24\"\n",
              "       width=\"24px\">\n",
              "    <path d=\"M0 0h24v24H0V0z\" fill=\"none\"/>\n",
              "    <path d=\"M18.56 5.44l.94 2.06.94-2.06 2.06-.94-2.06-.94-.94-2.06-.94 2.06-2.06.94zm-11 1L8.5 8.5l.94-2.06 2.06-.94-2.06-.94L8.5 2.5l-.94 2.06-2.06.94zm10 10l.94 2.06.94-2.06 2.06-.94-2.06-.94-.94-2.06-.94 2.06-2.06.94z\"/><path d=\"M17.41 7.96l-1.37-1.37c-.4-.4-.92-.59-1.43-.59-.52 0-1.04.2-1.43.59L10.3 9.45l-7.72 7.72c-.78.78-.78 2.05 0 2.83L4 21.41c.39.39.9.59 1.41.59.51 0 1.02-.2 1.41-.59l7.78-7.78 2.81-2.81c.8-.78.8-2.07 0-2.86zM5.41 20L4 18.59l7.72-7.72 1.47 1.35L5.41 20z\"/>\n",
              "  </svg>\n",
              "      </button>\n",
              "      \n",
              "  <style>\n",
              "    .colab-df-container {\n",
              "      display:flex;\n",
              "      flex-wrap:wrap;\n",
              "      gap: 12px;\n",
              "    }\n",
              "\n",
              "    .colab-df-convert {\n",
              "      background-color: #E8F0FE;\n",
              "      border: none;\n",
              "      border-radius: 50%;\n",
              "      cursor: pointer;\n",
              "      display: none;\n",
              "      fill: #1967D2;\n",
              "      height: 32px;\n",
              "      padding: 0 0 0 0;\n",
              "      width: 32px;\n",
              "    }\n",
              "\n",
              "    .colab-df-convert:hover {\n",
              "      background-color: #E2EBFA;\n",
              "      box-shadow: 0px 1px 2px rgba(60, 64, 67, 0.3), 0px 1px 3px 1px rgba(60, 64, 67, 0.15);\n",
              "      fill: #174EA6;\n",
              "    }\n",
              "\n",
              "    [theme=dark] .colab-df-convert {\n",
              "      background-color: #3B4455;\n",
              "      fill: #D2E3FC;\n",
              "    }\n",
              "\n",
              "    [theme=dark] .colab-df-convert:hover {\n",
              "      background-color: #434B5C;\n",
              "      box-shadow: 0px 1px 3px 1px rgba(0, 0, 0, 0.15);\n",
              "      filter: drop-shadow(0px 1px 2px rgba(0, 0, 0, 0.3));\n",
              "      fill: #FFFFFF;\n",
              "    }\n",
              "  </style>\n",
              "\n",
              "      <script>\n",
              "        const buttonEl =\n",
              "          document.querySelector('#df-19bdb32e-c871-413e-b802-a6c821113539 button.colab-df-convert');\n",
              "        buttonEl.style.display =\n",
              "          google.colab.kernel.accessAllowed ? 'block' : 'none';\n",
              "\n",
              "        async function convertToInteractive(key) {\n",
              "          const element = document.querySelector('#df-19bdb32e-c871-413e-b802-a6c821113539');\n",
              "          const dataTable =\n",
              "            await google.colab.kernel.invokeFunction('convertToInteractive',\n",
              "                                                     [key], {});\n",
              "          if (!dataTable) return;\n",
              "\n",
              "          const docLinkHtml = 'Like what you see? Visit the ' +\n",
              "            '<a target=\"_blank\" href=https://colab.research.google.com/notebooks/data_table.ipynb>data table notebook</a>'\n",
              "            + ' to learn more about interactive tables.';\n",
              "          element.innerHTML = '';\n",
              "          dataTable['output_type'] = 'display_data';\n",
              "          await google.colab.output.renderOutput(dataTable, element);\n",
              "          const docLink = document.createElement('div');\n",
              "          docLink.innerHTML = docLinkHtml;\n",
              "          element.appendChild(docLink);\n",
              "        }\n",
              "      </script>\n",
              "    </div>\n",
              "  </div>\n",
              "  "
            ]
          },
          "metadata": {},
          "execution_count": 2
        }
      ],
      "source": [
        "import pandas as pd\n",
        "df_train=pd.read_csv(\"/content/SMS_train.csv\",encoding='ISO-8859-1')\n",
        "df_train"
      ]
    },
    {
      "cell_type": "code",
      "source": [
        "df_test=pd.read_csv(\"/content/SMS_test.csv\",encoding='ISO-8859-1')\n",
        "df_test"
      ],
      "metadata": {
        "colab": {
          "base_uri": "https://localhost:8080/",
          "height": 423
        },
        "id": "9bwDnc7T7Ils",
        "outputId": "1b48025f-460c-42c7-c871-2884fe1d1042"
      },
      "execution_count": null,
      "outputs": [
        {
          "output_type": "execute_result",
          "data": {
            "text/plain": [
              "     S. No.                                       Message_body     Label\n",
              "0         1  UpgrdCentre Orange customer, you may now claim...      Spam\n",
              "1         2  Loan for any purpose £500 - £75,000. Homeowner...      Spam\n",
              "2         3  Congrats! Nokia 3650 video camera phone is you...      Spam\n",
              "3         4  URGENT! Your Mobile number has been awarded wi...      Spam\n",
              "4         5  Someone has contacted our dating service and e...      Spam\n",
              "..      ...                                                ...       ...\n",
              "120     121  7 wonders in My WORLD 7th You 6th Ur style 5th...  Non-Spam\n",
              "121     122  Try to do something dear. You read something f...  Non-Spam\n",
              "122     123  Sun ah... Thk mayb can if dun have anythin on....  Non-Spam\n",
              "123     124  SYMPTOMS when U are in love: \"1.U like listeni...  Non-Spam\n",
              "124     125  Great. Have a safe trip. Dont panic surrender ...  Non-Spam\n",
              "\n",
              "[125 rows x 3 columns]"
            ],
            "text/html": [
              "\n",
              "  <div id=\"df-c6beaf96-41e3-4223-831f-b02413567c95\">\n",
              "    <div class=\"colab-df-container\">\n",
              "      <div>\n",
              "<style scoped>\n",
              "    .dataframe tbody tr th:only-of-type {\n",
              "        vertical-align: middle;\n",
              "    }\n",
              "\n",
              "    .dataframe tbody tr th {\n",
              "        vertical-align: top;\n",
              "    }\n",
              "\n",
              "    .dataframe thead th {\n",
              "        text-align: right;\n",
              "    }\n",
              "</style>\n",
              "<table border=\"1\" class=\"dataframe\">\n",
              "  <thead>\n",
              "    <tr style=\"text-align: right;\">\n",
              "      <th></th>\n",
              "      <th>S. No.</th>\n",
              "      <th>Message_body</th>\n",
              "      <th>Label</th>\n",
              "    </tr>\n",
              "  </thead>\n",
              "  <tbody>\n",
              "    <tr>\n",
              "      <th>0</th>\n",
              "      <td>1</td>\n",
              "      <td>UpgrdCentre Orange customer, you may now claim...</td>\n",
              "      <td>Spam</td>\n",
              "    </tr>\n",
              "    <tr>\n",
              "      <th>1</th>\n",
              "      <td>2</td>\n",
              "      <td>Loan for any purpose £500 - £75,000. Homeowner...</td>\n",
              "      <td>Spam</td>\n",
              "    </tr>\n",
              "    <tr>\n",
              "      <th>2</th>\n",
              "      <td>3</td>\n",
              "      <td>Congrats! Nokia 3650 video camera phone is you...</td>\n",
              "      <td>Spam</td>\n",
              "    </tr>\n",
              "    <tr>\n",
              "      <th>3</th>\n",
              "      <td>4</td>\n",
              "      <td>URGENT! Your Mobile number has been awarded wi...</td>\n",
              "      <td>Spam</td>\n",
              "    </tr>\n",
              "    <tr>\n",
              "      <th>4</th>\n",
              "      <td>5</td>\n",
              "      <td>Someone has contacted our dating service and e...</td>\n",
              "      <td>Spam</td>\n",
              "    </tr>\n",
              "    <tr>\n",
              "      <th>...</th>\n",
              "      <td>...</td>\n",
              "      <td>...</td>\n",
              "      <td>...</td>\n",
              "    </tr>\n",
              "    <tr>\n",
              "      <th>120</th>\n",
              "      <td>121</td>\n",
              "      <td>7 wonders in My WORLD 7th You 6th Ur style 5th...</td>\n",
              "      <td>Non-Spam</td>\n",
              "    </tr>\n",
              "    <tr>\n",
              "      <th>121</th>\n",
              "      <td>122</td>\n",
              "      <td>Try to do something dear. You read something f...</td>\n",
              "      <td>Non-Spam</td>\n",
              "    </tr>\n",
              "    <tr>\n",
              "      <th>122</th>\n",
              "      <td>123</td>\n",
              "      <td>Sun ah... Thk mayb can if dun have anythin on....</td>\n",
              "      <td>Non-Spam</td>\n",
              "    </tr>\n",
              "    <tr>\n",
              "      <th>123</th>\n",
              "      <td>124</td>\n",
              "      <td>SYMPTOMS when U are in love: \"1.U like listeni...</td>\n",
              "      <td>Non-Spam</td>\n",
              "    </tr>\n",
              "    <tr>\n",
              "      <th>124</th>\n",
              "      <td>125</td>\n",
              "      <td>Great. Have a safe trip. Dont panic surrender ...</td>\n",
              "      <td>Non-Spam</td>\n",
              "    </tr>\n",
              "  </tbody>\n",
              "</table>\n",
              "<p>125 rows × 3 columns</p>\n",
              "</div>\n",
              "      <button class=\"colab-df-convert\" onclick=\"convertToInteractive('df-c6beaf96-41e3-4223-831f-b02413567c95')\"\n",
              "              title=\"Convert this dataframe to an interactive table.\"\n",
              "              style=\"display:none;\">\n",
              "        \n",
              "  <svg xmlns=\"http://www.w3.org/2000/svg\" height=\"24px\"viewBox=\"0 0 24 24\"\n",
              "       width=\"24px\">\n",
              "    <path d=\"M0 0h24v24H0V0z\" fill=\"none\"/>\n",
              "    <path d=\"M18.56 5.44l.94 2.06.94-2.06 2.06-.94-2.06-.94-.94-2.06-.94 2.06-2.06.94zm-11 1L8.5 8.5l.94-2.06 2.06-.94-2.06-.94L8.5 2.5l-.94 2.06-2.06.94zm10 10l.94 2.06.94-2.06 2.06-.94-2.06-.94-.94-2.06-.94 2.06-2.06.94z\"/><path d=\"M17.41 7.96l-1.37-1.37c-.4-.4-.92-.59-1.43-.59-.52 0-1.04.2-1.43.59L10.3 9.45l-7.72 7.72c-.78.78-.78 2.05 0 2.83L4 21.41c.39.39.9.59 1.41.59.51 0 1.02-.2 1.41-.59l7.78-7.78 2.81-2.81c.8-.78.8-2.07 0-2.86zM5.41 20L4 18.59l7.72-7.72 1.47 1.35L5.41 20z\"/>\n",
              "  </svg>\n",
              "      </button>\n",
              "      \n",
              "  <style>\n",
              "    .colab-df-container {\n",
              "      display:flex;\n",
              "      flex-wrap:wrap;\n",
              "      gap: 12px;\n",
              "    }\n",
              "\n",
              "    .colab-df-convert {\n",
              "      background-color: #E8F0FE;\n",
              "      border: none;\n",
              "      border-radius: 50%;\n",
              "      cursor: pointer;\n",
              "      display: none;\n",
              "      fill: #1967D2;\n",
              "      height: 32px;\n",
              "      padding: 0 0 0 0;\n",
              "      width: 32px;\n",
              "    }\n",
              "\n",
              "    .colab-df-convert:hover {\n",
              "      background-color: #E2EBFA;\n",
              "      box-shadow: 0px 1px 2px rgba(60, 64, 67, 0.3), 0px 1px 3px 1px rgba(60, 64, 67, 0.15);\n",
              "      fill: #174EA6;\n",
              "    }\n",
              "\n",
              "    [theme=dark] .colab-df-convert {\n",
              "      background-color: #3B4455;\n",
              "      fill: #D2E3FC;\n",
              "    }\n",
              "\n",
              "    [theme=dark] .colab-df-convert:hover {\n",
              "      background-color: #434B5C;\n",
              "      box-shadow: 0px 1px 3px 1px rgba(0, 0, 0, 0.15);\n",
              "      filter: drop-shadow(0px 1px 2px rgba(0, 0, 0, 0.3));\n",
              "      fill: #FFFFFF;\n",
              "    }\n",
              "  </style>\n",
              "\n",
              "      <script>\n",
              "        const buttonEl =\n",
              "          document.querySelector('#df-c6beaf96-41e3-4223-831f-b02413567c95 button.colab-df-convert');\n",
              "        buttonEl.style.display =\n",
              "          google.colab.kernel.accessAllowed ? 'block' : 'none';\n",
              "\n",
              "        async function convertToInteractive(key) {\n",
              "          const element = document.querySelector('#df-c6beaf96-41e3-4223-831f-b02413567c95');\n",
              "          const dataTable =\n",
              "            await google.colab.kernel.invokeFunction('convertToInteractive',\n",
              "                                                     [key], {});\n",
              "          if (!dataTable) return;\n",
              "\n",
              "          const docLinkHtml = 'Like what you see? Visit the ' +\n",
              "            '<a target=\"_blank\" href=https://colab.research.google.com/notebooks/data_table.ipynb>data table notebook</a>'\n",
              "            + ' to learn more about interactive tables.';\n",
              "          element.innerHTML = '';\n",
              "          dataTable['output_type'] = 'display_data';\n",
              "          await google.colab.output.renderOutput(dataTable, element);\n",
              "          const docLink = document.createElement('div');\n",
              "          docLink.innerHTML = docLinkHtml;\n",
              "          element.appendChild(docLink);\n",
              "        }\n",
              "      </script>\n",
              "    </div>\n",
              "  </div>\n",
              "  "
            ]
          },
          "metadata": {},
          "execution_count": 4
        }
      ]
    },
    {
      "cell_type": "code",
      "source": [
        "df=pd.concat([df_train,df_test],ignore_index=True,axis=0)\n",
        "df"
      ],
      "metadata": {
        "colab": {
          "base_uri": "https://localhost:8080/",
          "height": 423
        },
        "id": "qbyGvQ1w7fSu",
        "outputId": "36fa9c76-286b-4e5f-8476-29555bfa35d5"
      },
      "execution_count": null,
      "outputs": [
        {
          "output_type": "execute_result",
          "data": {
            "text/plain": [
              "      S. No.                                       Message_body     Label\n",
              "0          1                         Rofl. Its true to its name  Non-Spam\n",
              "1          2  The guy did some bitching but I acted like i'd...  Non-Spam\n",
              "2          3  Pity, * was in mood for that. So...any other s...  Non-Spam\n",
              "3          4               Will ü b going to esplanade fr home?  Non-Spam\n",
              "4          5  This is the 2nd time we have tried 2 contact u...      Spam\n",
              "...      ...                                                ...       ...\n",
              "1077     121  7 wonders in My WORLD 7th You 6th Ur style 5th...  Non-Spam\n",
              "1078     122  Try to do something dear. You read something f...  Non-Spam\n",
              "1079     123  Sun ah... Thk mayb can if dun have anythin on....  Non-Spam\n",
              "1080     124  SYMPTOMS when U are in love: \"1.U like listeni...  Non-Spam\n",
              "1081     125  Great. Have a safe trip. Dont panic surrender ...  Non-Spam\n",
              "\n",
              "[1082 rows x 3 columns]"
            ],
            "text/html": [
              "\n",
              "  <div id=\"df-d55f9992-35e2-490b-a54b-ec35825e4745\">\n",
              "    <div class=\"colab-df-container\">\n",
              "      <div>\n",
              "<style scoped>\n",
              "    .dataframe tbody tr th:only-of-type {\n",
              "        vertical-align: middle;\n",
              "    }\n",
              "\n",
              "    .dataframe tbody tr th {\n",
              "        vertical-align: top;\n",
              "    }\n",
              "\n",
              "    .dataframe thead th {\n",
              "        text-align: right;\n",
              "    }\n",
              "</style>\n",
              "<table border=\"1\" class=\"dataframe\">\n",
              "  <thead>\n",
              "    <tr style=\"text-align: right;\">\n",
              "      <th></th>\n",
              "      <th>S. No.</th>\n",
              "      <th>Message_body</th>\n",
              "      <th>Label</th>\n",
              "    </tr>\n",
              "  </thead>\n",
              "  <tbody>\n",
              "    <tr>\n",
              "      <th>0</th>\n",
              "      <td>1</td>\n",
              "      <td>Rofl. Its true to its name</td>\n",
              "      <td>Non-Spam</td>\n",
              "    </tr>\n",
              "    <tr>\n",
              "      <th>1</th>\n",
              "      <td>2</td>\n",
              "      <td>The guy did some bitching but I acted like i'd...</td>\n",
              "      <td>Non-Spam</td>\n",
              "    </tr>\n",
              "    <tr>\n",
              "      <th>2</th>\n",
              "      <td>3</td>\n",
              "      <td>Pity, * was in mood for that. So...any other s...</td>\n",
              "      <td>Non-Spam</td>\n",
              "    </tr>\n",
              "    <tr>\n",
              "      <th>3</th>\n",
              "      <td>4</td>\n",
              "      <td>Will ü b going to esplanade fr home?</td>\n",
              "      <td>Non-Spam</td>\n",
              "    </tr>\n",
              "    <tr>\n",
              "      <th>4</th>\n",
              "      <td>5</td>\n",
              "      <td>This is the 2nd time we have tried 2 contact u...</td>\n",
              "      <td>Spam</td>\n",
              "    </tr>\n",
              "    <tr>\n",
              "      <th>...</th>\n",
              "      <td>...</td>\n",
              "      <td>...</td>\n",
              "      <td>...</td>\n",
              "    </tr>\n",
              "    <tr>\n",
              "      <th>1077</th>\n",
              "      <td>121</td>\n",
              "      <td>7 wonders in My WORLD 7th You 6th Ur style 5th...</td>\n",
              "      <td>Non-Spam</td>\n",
              "    </tr>\n",
              "    <tr>\n",
              "      <th>1078</th>\n",
              "      <td>122</td>\n",
              "      <td>Try to do something dear. You read something f...</td>\n",
              "      <td>Non-Spam</td>\n",
              "    </tr>\n",
              "    <tr>\n",
              "      <th>1079</th>\n",
              "      <td>123</td>\n",
              "      <td>Sun ah... Thk mayb can if dun have anythin on....</td>\n",
              "      <td>Non-Spam</td>\n",
              "    </tr>\n",
              "    <tr>\n",
              "      <th>1080</th>\n",
              "      <td>124</td>\n",
              "      <td>SYMPTOMS when U are in love: \"1.U like listeni...</td>\n",
              "      <td>Non-Spam</td>\n",
              "    </tr>\n",
              "    <tr>\n",
              "      <th>1081</th>\n",
              "      <td>125</td>\n",
              "      <td>Great. Have a safe trip. Dont panic surrender ...</td>\n",
              "      <td>Non-Spam</td>\n",
              "    </tr>\n",
              "  </tbody>\n",
              "</table>\n",
              "<p>1082 rows × 3 columns</p>\n",
              "</div>\n",
              "      <button class=\"colab-df-convert\" onclick=\"convertToInteractive('df-d55f9992-35e2-490b-a54b-ec35825e4745')\"\n",
              "              title=\"Convert this dataframe to an interactive table.\"\n",
              "              style=\"display:none;\">\n",
              "        \n",
              "  <svg xmlns=\"http://www.w3.org/2000/svg\" height=\"24px\"viewBox=\"0 0 24 24\"\n",
              "       width=\"24px\">\n",
              "    <path d=\"M0 0h24v24H0V0z\" fill=\"none\"/>\n",
              "    <path d=\"M18.56 5.44l.94 2.06.94-2.06 2.06-.94-2.06-.94-.94-2.06-.94 2.06-2.06.94zm-11 1L8.5 8.5l.94-2.06 2.06-.94-2.06-.94L8.5 2.5l-.94 2.06-2.06.94zm10 10l.94 2.06.94-2.06 2.06-.94-2.06-.94-.94-2.06-.94 2.06-2.06.94z\"/><path d=\"M17.41 7.96l-1.37-1.37c-.4-.4-.92-.59-1.43-.59-.52 0-1.04.2-1.43.59L10.3 9.45l-7.72 7.72c-.78.78-.78 2.05 0 2.83L4 21.41c.39.39.9.59 1.41.59.51 0 1.02-.2 1.41-.59l7.78-7.78 2.81-2.81c.8-.78.8-2.07 0-2.86zM5.41 20L4 18.59l7.72-7.72 1.47 1.35L5.41 20z\"/>\n",
              "  </svg>\n",
              "      </button>\n",
              "      \n",
              "  <style>\n",
              "    .colab-df-container {\n",
              "      display:flex;\n",
              "      flex-wrap:wrap;\n",
              "      gap: 12px;\n",
              "    }\n",
              "\n",
              "    .colab-df-convert {\n",
              "      background-color: #E8F0FE;\n",
              "      border: none;\n",
              "      border-radius: 50%;\n",
              "      cursor: pointer;\n",
              "      display: none;\n",
              "      fill: #1967D2;\n",
              "      height: 32px;\n",
              "      padding: 0 0 0 0;\n",
              "      width: 32px;\n",
              "    }\n",
              "\n",
              "    .colab-df-convert:hover {\n",
              "      background-color: #E2EBFA;\n",
              "      box-shadow: 0px 1px 2px rgba(60, 64, 67, 0.3), 0px 1px 3px 1px rgba(60, 64, 67, 0.15);\n",
              "      fill: #174EA6;\n",
              "    }\n",
              "\n",
              "    [theme=dark] .colab-df-convert {\n",
              "      background-color: #3B4455;\n",
              "      fill: #D2E3FC;\n",
              "    }\n",
              "\n",
              "    [theme=dark] .colab-df-convert:hover {\n",
              "      background-color: #434B5C;\n",
              "      box-shadow: 0px 1px 3px 1px rgba(0, 0, 0, 0.15);\n",
              "      filter: drop-shadow(0px 1px 2px rgba(0, 0, 0, 0.3));\n",
              "      fill: #FFFFFF;\n",
              "    }\n",
              "  </style>\n",
              "\n",
              "      <script>\n",
              "        const buttonEl =\n",
              "          document.querySelector('#df-d55f9992-35e2-490b-a54b-ec35825e4745 button.colab-df-convert');\n",
              "        buttonEl.style.display =\n",
              "          google.colab.kernel.accessAllowed ? 'block' : 'none';\n",
              "\n",
              "        async function convertToInteractive(key) {\n",
              "          const element = document.querySelector('#df-d55f9992-35e2-490b-a54b-ec35825e4745');\n",
              "          const dataTable =\n",
              "            await google.colab.kernel.invokeFunction('convertToInteractive',\n",
              "                                                     [key], {});\n",
              "          if (!dataTable) return;\n",
              "\n",
              "          const docLinkHtml = 'Like what you see? Visit the ' +\n",
              "            '<a target=\"_blank\" href=https://colab.research.google.com/notebooks/data_table.ipynb>data table notebook</a>'\n",
              "            + ' to learn more about interactive tables.';\n",
              "          element.innerHTML = '';\n",
              "          dataTable['output_type'] = 'display_data';\n",
              "          await google.colab.output.renderOutput(dataTable, element);\n",
              "          const docLink = document.createElement('div');\n",
              "          docLink.innerHTML = docLinkHtml;\n",
              "          element.appendChild(docLink);\n",
              "        }\n",
              "      </script>\n",
              "    </div>\n",
              "  </div>\n",
              "  "
            ]
          },
          "metadata": {},
          "execution_count": 8
        }
      ]
    },
    {
      "cell_type": "code",
      "source": [
        "df.drop(['S. No.'],axis=1,inplace=True)"
      ],
      "metadata": {
        "id": "3RKrjm298L0w"
      },
      "execution_count": null,
      "outputs": []
    },
    {
      "cell_type": "code",
      "source": [
        "df['Label'].unique()"
      ],
      "metadata": {
        "colab": {
          "base_uri": "https://localhost:8080/"
        },
        "id": "So5sVOJI9gsR",
        "outputId": "17705c77-864f-475f-b4d1-541a295fc125"
      },
      "execution_count": null,
      "outputs": [
        {
          "output_type": "execute_result",
          "data": {
            "text/plain": [
              "array(['Non-Spam', 'Spam'], dtype=object)"
            ]
          },
          "metadata": {},
          "execution_count": 11
        }
      ]
    },
    {
      "cell_type": "code",
      "source": [
        "df['Label']=df['Label'].map({'Spam':1,'Non-Spam':0})\n",
        "df.head()"
      ],
      "metadata": {
        "colab": {
          "base_uri": "https://localhost:8080/",
          "height": 206
        },
        "id": "uVGbdF0H-E1Z",
        "outputId": "5d4cd2bb-df85-4a89-8bf6-91da31779716"
      },
      "execution_count": null,
      "outputs": [
        {
          "output_type": "execute_result",
          "data": {
            "text/plain": [
              "                                        Message_body  Label\n",
              "0                         Rofl. Its true to its name      0\n",
              "1  The guy did some bitching but I acted like i'd...      0\n",
              "2  Pity, * was in mood for that. So...any other s...      0\n",
              "3               Will ü b going to esplanade fr home?      0\n",
              "4  This is the 2nd time we have tried 2 contact u...      1"
            ],
            "text/html": [
              "\n",
              "  <div id=\"df-1590771f-658b-4f22-b814-713e1a252835\">\n",
              "    <div class=\"colab-df-container\">\n",
              "      <div>\n",
              "<style scoped>\n",
              "    .dataframe tbody tr th:only-of-type {\n",
              "        vertical-align: middle;\n",
              "    }\n",
              "\n",
              "    .dataframe tbody tr th {\n",
              "        vertical-align: top;\n",
              "    }\n",
              "\n",
              "    .dataframe thead th {\n",
              "        text-align: right;\n",
              "    }\n",
              "</style>\n",
              "<table border=\"1\" class=\"dataframe\">\n",
              "  <thead>\n",
              "    <tr style=\"text-align: right;\">\n",
              "      <th></th>\n",
              "      <th>Message_body</th>\n",
              "      <th>Label</th>\n",
              "    </tr>\n",
              "  </thead>\n",
              "  <tbody>\n",
              "    <tr>\n",
              "      <th>0</th>\n",
              "      <td>Rofl. Its true to its name</td>\n",
              "      <td>0</td>\n",
              "    </tr>\n",
              "    <tr>\n",
              "      <th>1</th>\n",
              "      <td>The guy did some bitching but I acted like i'd...</td>\n",
              "      <td>0</td>\n",
              "    </tr>\n",
              "    <tr>\n",
              "      <th>2</th>\n",
              "      <td>Pity, * was in mood for that. So...any other s...</td>\n",
              "      <td>0</td>\n",
              "    </tr>\n",
              "    <tr>\n",
              "      <th>3</th>\n",
              "      <td>Will ü b going to esplanade fr home?</td>\n",
              "      <td>0</td>\n",
              "    </tr>\n",
              "    <tr>\n",
              "      <th>4</th>\n",
              "      <td>This is the 2nd time we have tried 2 contact u...</td>\n",
              "      <td>1</td>\n",
              "    </tr>\n",
              "  </tbody>\n",
              "</table>\n",
              "</div>\n",
              "      <button class=\"colab-df-convert\" onclick=\"convertToInteractive('df-1590771f-658b-4f22-b814-713e1a252835')\"\n",
              "              title=\"Convert this dataframe to an interactive table.\"\n",
              "              style=\"display:none;\">\n",
              "        \n",
              "  <svg xmlns=\"http://www.w3.org/2000/svg\" height=\"24px\"viewBox=\"0 0 24 24\"\n",
              "       width=\"24px\">\n",
              "    <path d=\"M0 0h24v24H0V0z\" fill=\"none\"/>\n",
              "    <path d=\"M18.56 5.44l.94 2.06.94-2.06 2.06-.94-2.06-.94-.94-2.06-.94 2.06-2.06.94zm-11 1L8.5 8.5l.94-2.06 2.06-.94-2.06-.94L8.5 2.5l-.94 2.06-2.06.94zm10 10l.94 2.06.94-2.06 2.06-.94-2.06-.94-.94-2.06-.94 2.06-2.06.94z\"/><path d=\"M17.41 7.96l-1.37-1.37c-.4-.4-.92-.59-1.43-.59-.52 0-1.04.2-1.43.59L10.3 9.45l-7.72 7.72c-.78.78-.78 2.05 0 2.83L4 21.41c.39.39.9.59 1.41.59.51 0 1.02-.2 1.41-.59l7.78-7.78 2.81-2.81c.8-.78.8-2.07 0-2.86zM5.41 20L4 18.59l7.72-7.72 1.47 1.35L5.41 20z\"/>\n",
              "  </svg>\n",
              "      </button>\n",
              "      \n",
              "  <style>\n",
              "    .colab-df-container {\n",
              "      display:flex;\n",
              "      flex-wrap:wrap;\n",
              "      gap: 12px;\n",
              "    }\n",
              "\n",
              "    .colab-df-convert {\n",
              "      background-color: #E8F0FE;\n",
              "      border: none;\n",
              "      border-radius: 50%;\n",
              "      cursor: pointer;\n",
              "      display: none;\n",
              "      fill: #1967D2;\n",
              "      height: 32px;\n",
              "      padding: 0 0 0 0;\n",
              "      width: 32px;\n",
              "    }\n",
              "\n",
              "    .colab-df-convert:hover {\n",
              "      background-color: #E2EBFA;\n",
              "      box-shadow: 0px 1px 2px rgba(60, 64, 67, 0.3), 0px 1px 3px 1px rgba(60, 64, 67, 0.15);\n",
              "      fill: #174EA6;\n",
              "    }\n",
              "\n",
              "    [theme=dark] .colab-df-convert {\n",
              "      background-color: #3B4455;\n",
              "      fill: #D2E3FC;\n",
              "    }\n",
              "\n",
              "    [theme=dark] .colab-df-convert:hover {\n",
              "      background-color: #434B5C;\n",
              "      box-shadow: 0px 1px 3px 1px rgba(0, 0, 0, 0.15);\n",
              "      filter: drop-shadow(0px 1px 2px rgba(0, 0, 0, 0.3));\n",
              "      fill: #FFFFFF;\n",
              "    }\n",
              "  </style>\n",
              "\n",
              "      <script>\n",
              "        const buttonEl =\n",
              "          document.querySelector('#df-1590771f-658b-4f22-b814-713e1a252835 button.colab-df-convert');\n",
              "        buttonEl.style.display =\n",
              "          google.colab.kernel.accessAllowed ? 'block' : 'none';\n",
              "\n",
              "        async function convertToInteractive(key) {\n",
              "          const element = document.querySelector('#df-1590771f-658b-4f22-b814-713e1a252835');\n",
              "          const dataTable =\n",
              "            await google.colab.kernel.invokeFunction('convertToInteractive',\n",
              "                                                     [key], {});\n",
              "          if (!dataTable) return;\n",
              "\n",
              "          const docLinkHtml = 'Like what you see? Visit the ' +\n",
              "            '<a target=\"_blank\" href=https://colab.research.google.com/notebooks/data_table.ipynb>data table notebook</a>'\n",
              "            + ' to learn more about interactive tables.';\n",
              "          element.innerHTML = '';\n",
              "          dataTable['output_type'] = 'display_data';\n",
              "          await google.colab.output.renderOutput(dataTable, element);\n",
              "          const docLink = document.createElement('div');\n",
              "          docLink.innerHTML = docLinkHtml;\n",
              "          element.appendChild(docLink);\n",
              "        }\n",
              "      </script>\n",
              "    </div>\n",
              "  </div>\n",
              "  "
            ]
          },
          "metadata": {},
          "execution_count": 12
        }
      ]
    },
    {
      "cell_type": "code",
      "source": [
        "msg=df.Message_body\n",
        "msg"
      ],
      "metadata": {
        "colab": {
          "base_uri": "https://localhost:8080/"
        },
        "id": "zMao7bzG_Dq_",
        "outputId": "b7a2b2d6-670b-4e6c-d5de-a2476eb8f4ab"
      },
      "execution_count": null,
      "outputs": [
        {
          "output_type": "execute_result",
          "data": {
            "text/plain": [
              "0                              Rofl. Its true to its name\n",
              "1       The guy did some bitching but I acted like i'd...\n",
              "2       Pity, * was in mood for that. So...any other s...\n",
              "3                    Will ü b going to esplanade fr home?\n",
              "4       This is the 2nd time we have tried 2 contact u...\n",
              "                              ...                        \n",
              "1077    7 wonders in My WORLD 7th You 6th Ur style 5th...\n",
              "1078    Try to do something dear. You read something f...\n",
              "1079    Sun ah... Thk mayb can if dun have anythin on....\n",
              "1080    SYMPTOMS when U are in love: \"1.U like listeni...\n",
              "1081    Great. Have a safe trip. Dont panic surrender ...\n",
              "Name: Message_body, Length: 1082, dtype: object"
            ]
          },
          "metadata": {},
          "execution_count": 13
        }
      ]
    },
    {
      "cell_type": "markdown",
      "source": [
        "**Remove Special Characters**"
      ],
      "metadata": {
        "id": "vNf9MDFv_7VW"
      }
    },
    {
      "cell_type": "code",
      "source": [
        "msg=msg.str.replace('[^a-zA-Z0-9]+',\" \")\n",
        "msg"
      ],
      "metadata": {
        "colab": {
          "base_uri": "https://localhost:8080/"
        },
        "id": "fiJrlF_U_Xex",
        "outputId": "7c704b10-7432-4f0c-d6a5-809f2b1af85c"
      },
      "execution_count": null,
      "outputs": [
        {
          "output_type": "stream",
          "name": "stderr",
          "text": [
            "<ipython-input-14-53af49f42db0>:1: FutureWarning: The default value of regex will change from True to False in a future version.\n",
            "  msg=msg.str.replace('[^a-zA-Z0-9]+',\" \")\n"
          ]
        },
        {
          "output_type": "execute_result",
          "data": {
            "text/plain": [
              "0                               Rofl Its true to its name\n",
              "1       The guy did some bitching but I acted like i d...\n",
              "2       Pity was in mood for that So any other suggest...\n",
              "3                      Will b going to esplanade fr home \n",
              "4       This is the 2nd time we have tried 2 contact u...\n",
              "                              ...                        \n",
              "1077    7 wonders in My WORLD 7th You 6th Ur style 5th...\n",
              "1078    Try to do something dear You read something fo...\n",
              "1079    Sun ah Thk mayb can if dun have anythin on Thk...\n",
              "1080    SYMPTOMS when U are in love 1 U like listening...\n",
              "1081     Great Have a safe trip Dont panic surrender all \n",
              "Name: Message_body, Length: 1082, dtype: object"
            ]
          },
          "metadata": {},
          "execution_count": 14
        }
      ]
    },
    {
      "cell_type": "code",
      "source": [
        "import nltk\n",
        "nltk.download('stopwords')\n",
        "nltk.download('punkt')\n",
        "nltk.download('wordnet')"
      ],
      "metadata": {
        "colab": {
          "base_uri": "https://localhost:8080/"
        },
        "id": "eBd2njWV__PG",
        "outputId": "0d1211b8-9d67-45c7-bfee-910e185347fb"
      },
      "execution_count": null,
      "outputs": [
        {
          "output_type": "stream",
          "name": "stderr",
          "text": [
            "[nltk_data] Downloading package stopwords to /root/nltk_data...\n",
            "[nltk_data]   Unzipping corpora/stopwords.zip.\n",
            "[nltk_data] Downloading package punkt to /root/nltk_data...\n",
            "[nltk_data]   Unzipping tokenizers/punkt.zip.\n",
            "[nltk_data] Downloading package wordnet to /root/nltk_data...\n"
          ]
        },
        {
          "output_type": "execute_result",
          "data": {
            "text/plain": [
              "True"
            ]
          },
          "metadata": {},
          "execution_count": 15
        }
      ]
    },
    {
      "cell_type": "markdown",
      "source": [
        "**Stemming**"
      ],
      "metadata": {
        "id": "T2k3zBXNAYVa"
      }
    },
    {
      "cell_type": "code",
      "source": [
        "from nltk.stem import PorterStemmer\n",
        "from nltk.tokenize import word_tokenize"
      ],
      "metadata": {
        "id": "iKnIQ1ArAaWA"
      },
      "execution_count": null,
      "outputs": []
    },
    {
      "cell_type": "code",
      "source": [
        "ps=PorterStemmer()\n",
        "msg=msg.apply(lambda x:[ps.stem(i.lower()) for i in word_tokenize(x)]).apply (lambda y:\" \".join(y))"
      ],
      "metadata": {
        "id": "aNJXAFNXAwHK"
      },
      "execution_count": null,
      "outputs": []
    },
    {
      "cell_type": "code",
      "source": [
        "msg"
      ],
      "metadata": {
        "colab": {
          "base_uri": "https://localhost:8080/"
        },
        "id": "c4uaGhROB_ZJ",
        "outputId": "d428c70c-5db6-429a-ee56-a0e95c02615b"
      },
      "execution_count": null,
      "outputs": [
        {
          "output_type": "execute_result",
          "data": {
            "text/plain": [
              "0                                 rofl it true to it name\n",
              "1       the guy did some bitch but i act like i d be i...\n",
              "2           piti wa in mood for that so ani other suggest\n",
              "3                           will b go to esplanad fr home\n",
              "4       thi is the 2nd time we have tri 2 contact u u ...\n",
              "                              ...                        \n",
              "1077    7 wonder in my world 7th you 6th ur style 5th ...\n",
              "1078       tri to do someth dear you read someth for exam\n",
              "1079    sun ah thk mayb can if dun have anythin on thk...\n",
              "1080    symptom when u are in love 1 u like listen son...\n",
              "1081        great have a safe trip dont panic surrend all\n",
              "Name: Message_body, Length: 1082, dtype: object"
            ]
          },
          "metadata": {},
          "execution_count": 18
        }
      ]
    },
    {
      "cell_type": "markdown",
      "source": [
        "**Remove stop words**"
      ],
      "metadata": {
        "id": "x_joZuPKFmd4"
      }
    },
    {
      "cell_type": "code",
      "source": [
        "from nltk.corpus import stopwords\n",
        "st=stopwords.words('english')\n",
        "msg=msg.apply(lambda x:[i for i in word_tokenize(x) if i.lower() not in st]).apply(lambda y:\" \".join(y))\n",
        "msg"
      ],
      "metadata": {
        "colab": {
          "base_uri": "https://localhost:8080/"
        },
        "id": "3e5GCiOTCZNI",
        "outputId": "455a16b5-015d-4309-8b71-dcc969860698"
      },
      "execution_count": null,
      "outputs": [
        {
          "output_type": "execute_result",
          "data": {
            "text/plain": [
              "0                                          rofl true name\n",
              "1       guy bitch act like interest buy someth els nex...\n",
              "2                                piti wa mood ani suggest\n",
              "3                                   b go esplanad fr home\n",
              "4       thi 2nd time tri 2 contact u u 750 pound prize...\n",
              "                              ...                        \n",
              "1077    7 wonder world 7th 6th ur style 5th ur smile 4...\n",
              "1078                     tri someth dear read someth exam\n",
              "1079    sun ah thk mayb dun anythin thk book e lesson ...\n",
              "1080    symptom u love 1 u like listen song 2 u get st...\n",
              "1081                   great safe trip dont panic surrend\n",
              "Name: Message_body, Length: 1082, dtype: object"
            ]
          },
          "metadata": {},
          "execution_count": 20
        }
      ]
    },
    {
      "cell_type": "code",
      "source": [
        "msg=msg.apply(lambda x:[i for i in word_tokenize(x) if len(i)>2]).apply(lambda y:\" \".join(y))\n",
        "msg"
      ],
      "metadata": {
        "colab": {
          "base_uri": "https://localhost:8080/"
        },
        "id": "_1Dz2OlCFaxt",
        "outputId": "47c4c2c2-881f-4dc7-f69d-96734d47c79c"
      },
      "execution_count": null,
      "outputs": [
        {
          "output_type": "execute_result",
          "data": {
            "text/plain": [
              "0                                          rofl true name\n",
              "1       guy bitch act like interest buy someth els nex...\n",
              "2                                   piti mood ani suggest\n",
              "3                                           esplanad home\n",
              "4       thi 2nd time tri contact 750 pound prize claim...\n",
              "                              ...                        \n",
              "1077    wonder world 7th 6th style 5th smile 4th perso...\n",
              "1078                     tri someth dear read someth exam\n",
              "1079    sun thk mayb dun anythin thk book lesson pilat...\n",
              "1080    symptom love like listen song get stop see nam...\n",
              "1081                   great safe trip dont panic surrend\n",
              "Name: Message_body, Length: 1082, dtype: object"
            ]
          },
          "metadata": {},
          "execution_count": 21
        }
      ]
    },
    {
      "cell_type": "markdown",
      "source": [
        "**TFIDF vectorisation**"
      ],
      "metadata": {
        "id": "Z9fFbyiRGw4Y"
      }
    },
    {
      "cell_type": "code",
      "source": [
        "from sklearn.feature_extraction.text import TfidfVectorizer\n",
        "tf=TfidfVectorizer()\n",
        "data_vec=tf.fit_transform(msg)\n",
        "print(data_vec)"
      ],
      "metadata": {
        "colab": {
          "base_uri": "https://localhost:8080/"
        },
        "id": "K_eYG7xJGvE0",
        "outputId": "093f54b9-d421-4e1a-ff7a-80bfe817ff4d"
      },
      "execution_count": null,
      "outputs": [
        {
          "output_type": "stream",
          "name": "stdout",
          "text": [
            "  (0, 1738)\t0.5086856793431559\n",
            "  (0, 2596)\t0.5352804139572925\n",
            "  (0, 2142)\t0.6743246681420617\n",
            "  (1, 1116)\t0.1975505629026879\n",
            "  (1, 1159)\t0.32775007986689586\n",
            "  (1, 2732)\t0.232360173562465\n",
            "  (1, 1771)\t0.26486371982881535\n",
            "  (1, 964)\t0.30359792197566066\n",
            "  (1, 2326)\t0.27484084856681323\n",
            "  (1, 614)\t0.27484084856681323\n",
            "  (1, 1385)\t0.3183810904534948\n",
            "  (1, 1525)\t0.21717710288602465\n",
            "  (1, 331)\t0.3539999646600926\n",
            "  (1, 540)\t0.37483567038885635\n",
            "  (1, 1230)\t0.2679790477690628\n",
            "  (2, 2425)\t0.5165656915002457\n",
            "  (2, 399)\t0.36716239650585775\n",
            "  (2, 1697)\t0.5469696796701571\n",
            "  (2, 1921)\t0.5469696796701571\n",
            "  (3, 1303)\t0.5461172911588754\n",
            "  (3, 991)\t0.8377087228251189\n",
            "  (4, 2055)\t0.23243263023633923\n",
            "  (4, 1747)\t0.26941298641228506\n",
            "  (4, 1666)\t0.2401340087334995\n",
            "  (4, 1893)\t0.23610804613087077\n",
            "  :\t:\n",
            "  (1079, 1844)\t0.2706898396742334\n",
            "  (1079, 1713)\t0.2706898396742334\n",
            "  (1079, 2431)\t0.26153957460502464\n",
            "  (1079, 1514)\t0.24774213284441401\n",
            "  (1079, 561)\t0.2374366876682329\n",
            "  (1079, 2521)\t0.49548426568882803\n",
            "  (1079, 1634)\t0.2164896791883823\n",
            "  (1079, 939)\t0.22235769842186565\n",
            "  (1080, 523)\t0.37025990523411034\n",
            "  (1080, 2459)\t0.37025990523411034\n",
            "  (1080, 1536)\t0.3237491068715447\n",
            "  (1080, 398)\t0.3237491068715447\n",
            "  (1080, 2330)\t0.33507584451064965\n",
            "  (1080, 2394)\t0.2208005656522519\n",
            "  (1080, 1575)\t0.2249749608215637\n",
            "  (1080, 2206)\t0.21572034231434808\n",
            "  (1080, 1176)\t0.36602572795540395\n",
            "  (1080, 1525)\t0.21452593732655792\n",
            "  (1080, 1738)\t0.27931042764086844\n",
            "  (1081, 2444)\t0.4791624063199324\n",
            "  (1081, 1868)\t0.4791624063199324\n",
            "  (1081, 915)\t0.30819278764115643\n",
            "  (1081, 2164)\t0.4525275695553008\n",
            "  (1081, 2593)\t0.3734390895085233\n",
            "  (1081, 1217)\t0.31872563060534453\n"
          ]
        }
      ]
    },
    {
      "cell_type": "code",
      "source": [
        "data_vec.shape"
      ],
      "metadata": {
        "colab": {
          "base_uri": "https://localhost:8080/"
        },
        "id": "e3AuiOVoIAeO",
        "outputId": "b2c17c0a-df70-45e6-e13b-791477463b37"
      },
      "execution_count": null,
      "outputs": [
        {
          "output_type": "execute_result",
          "data": {
            "text/plain": [
              "(1082, 2844)"
            ]
          },
          "metadata": {},
          "execution_count": 23
        }
      ]
    },
    {
      "cell_type": "code",
      "source": [
        "y=df['Label'].values\n",
        "y"
      ],
      "metadata": {
        "colab": {
          "base_uri": "https://localhost:8080/"
        },
        "id": "Ph-b26NzIGL-",
        "outputId": "510782d1-0628-4b42-8f1f-7f51a1d9f4c3"
      },
      "execution_count": null,
      "outputs": [
        {
          "output_type": "execute_result",
          "data": {
            "text/plain": [
              "array([0, 0, 0, ..., 0, 0, 0])"
            ]
          },
          "metadata": {},
          "execution_count": 24
        }
      ]
    },
    {
      "cell_type": "code",
      "source": [
        "from sklearn.model_selection import train_test_split\n",
        "X_train,X_test,y_train,y_test=train_test_split(data_vec,y,test_size=0.3,random_state=1)"
      ],
      "metadata": {
        "id": "LkNQZEl3Irth"
      },
      "execution_count": null,
      "outputs": []
    },
    {
      "cell_type": "code",
      "source": [
        "from sklearn.metrics import classification_report\n",
        "from sklearn.svm import SVC\n",
        "from sklearn.tree import DecisionTreeClassifier\n",
        "from sklearn.ensemble import RandomForestClassifier\n",
        "from sklearn.ensemble import AdaBoostClassifier\n",
        "sv=SVC()\n",
        "dt=DecisionTreeClassifier()\n",
        "rf=RandomForestClassifier()\n",
        "ad=AdaBoostClassifier()\n",
        "models=[sv,dt,rf,ad]\n",
        "for model in models:\n",
        "  print(model)\n",
        "  model.fit(X_train,y_train)\n",
        "  y_pred=model.predict(X_test)\n",
        "  print(classification_report(y_test,y_pred))"
      ],
      "metadata": {
        "colab": {
          "base_uri": "https://localhost:8080/"
        },
        "id": "uijaZ1CqIzaF",
        "outputId": "ad5ccfac-dafa-4777-fcfa-1c0329aac9ef"
      },
      "execution_count": null,
      "outputs": [
        {
          "output_type": "stream",
          "name": "stdout",
          "text": [
            "SVC()\n",
            "              precision    recall  f1-score   support\n",
            "\n",
            "           0       0.88      1.00      0.93       260\n",
            "           1       0.97      0.45      0.61        65\n",
            "\n",
            "    accuracy                           0.89       325\n",
            "   macro avg       0.92      0.72      0.77       325\n",
            "weighted avg       0.90      0.89      0.87       325\n",
            "\n",
            "DecisionTreeClassifier()\n",
            "              precision    recall  f1-score   support\n",
            "\n",
            "           0       0.93      0.97      0.95       260\n",
            "           1       0.87      0.71      0.78        65\n",
            "\n",
            "    accuracy                           0.92       325\n",
            "   macro avg       0.90      0.84      0.87       325\n",
            "weighted avg       0.92      0.92      0.92       325\n",
            "\n",
            "RandomForestClassifier()\n",
            "              precision    recall  f1-score   support\n",
            "\n",
            "           0       0.92      0.99      0.96       260\n",
            "           1       0.96      0.68      0.79        65\n",
            "\n",
            "    accuracy                           0.93       325\n",
            "   macro avg       0.94      0.83      0.88       325\n",
            "weighted avg       0.93      0.93      0.92       325\n",
            "\n",
            "AdaBoostClassifier()\n",
            "              precision    recall  f1-score   support\n",
            "\n",
            "           0       0.95      0.97      0.96       260\n",
            "           1       0.86      0.78      0.82        65\n",
            "\n",
            "    accuracy                           0.93       325\n",
            "   macro avg       0.91      0.88      0.89       325\n",
            "weighted avg       0.93      0.93      0.93       325\n",
            "\n"
          ]
        }
      ]
    },
    {
      "cell_type": "code",
      "source": [
        "y_new=model.predict(vec.transform(['Bought a fraction of Microsoft today. Small wins.']))\n",
        "  if y_new==1:\n",
        "    print(\"Spam\")\n",
        "  else:\n",
        "    print(\"Not Spam\")\n",
        "  print(classification_report(y_test,y_pred))"
      ],
      "metadata": {
        "id": "i-52D_F2KtVI"
      },
      "execution_count": null,
      "outputs": []
    }
  ]
}